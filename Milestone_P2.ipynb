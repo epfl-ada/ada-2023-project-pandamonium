{
 "cells": [
  {
   "cell_type": "code",
   "execution_count": 2,
   "id": "5bae9605-628c-46c2-bcbf-52ebea6b56b1",
   "metadata": {
    "tags": []
   },
   "outputs": [],
   "source": [
    "import numpy as np\n",
    "import pandas as pd"
   ]
  },
  {
   "cell_type": "code",
   "execution_count": 3,
   "id": "78e83687-9c2c-45bf-b10a-27179b451270",
   "metadata": {},
   "outputs": [
    {
     "name": "stdout",
     "output_type": "stream",
     "text": [
      "          975900   /m/03vyhn  2001-08-24                    Akooshay  \\\n",
      "0         975900   /m/03vyhn  2001-08-24  Lieutenant Melanie Ballard   \n",
      "1         975900   /m/03vyhn  2001-08-24         Desolation Williams   \n",
      "2         975900   /m/03vyhn  2001-08-24          Sgt Jericho Butler   \n",
      "3         975900   /m/03vyhn  2001-08-24             Bashira Kincaid   \n",
      "4         975900   /m/03vyhn  2001-08-24   Commander Helena Braddock   \n",
      "...          ...         ...         ...                         ...   \n",
      "450663    913762   /m/03pcrp  1992-05-21                      Elensh   \n",
      "450664    913762   /m/03pcrp  1992-05-21                      Hibiki   \n",
      "450665  28308153  /m/0cp05t9        1957                         NaN   \n",
      "450666  28308153  /m/0cp05t9        1957                         NaN   \n",
      "450667  28308153  /m/0cp05t9        1957                         NaN   \n",
      "\n",
      "        1958-08-26    F   1.62  Unnamed: 7      Wanda De Jesus    42  \\\n",
      "0       1974-08-15    F  1.780  /m/044038p  Natasha Henstridge  27.0   \n",
      "1       1969-06-15    M  1.727     /m/0x67            Ice Cube  32.0   \n",
      "2       1967-09-12    M  1.750         NaN       Jason Statham  33.0   \n",
      "3       1977-09-25    F  1.650         NaN         Clea DuVall  23.0   \n",
      "4       1949-05-26    F  1.727     /m/0x67           Pam Grier  52.0   \n",
      "...            ...  ...    ...         ...                 ...   ...   \n",
      "450663     1970-05    F    NaN         NaN  Dorothy Elias-Fahn   NaN   \n",
      "450664  1965-04-12    M    NaN         NaN       Jonathan Fahn  27.0   \n",
      "450665  1941-11-18    M  1.730   /m/02w7gg      David Hemmings  15.0   \n",
      "450666         NaN  NaN    NaN         NaN    Roberta Paterson   NaN   \n",
      "450667         NaN  NaN    NaN         NaN         John Rogers   NaN   \n",
      "\n",
      "        /m/0bgchxw  /m/0bgcj3x  /m/03wcfv7  \n",
      "0        /m/0jys3m  /m/0bgchn4   /m/0346l4  \n",
      "1        /m/0jys3g  /m/0bgchn_  /m/01vw26l  \n",
      "2       /m/02vchl6  /m/0bgchnq   /m/034hyc  \n",
      "3       /m/02vbb3r  /m/0bgchp9   /m/01y9xg  \n",
      "4       /m/02vdcfp  /m/0bgchnd   /m/0418ft  \n",
      "...            ...         ...         ...  \n",
      "450663  /m/0kr406c  /m/0kr406h   /m/0b_vcv  \n",
      "450664  /m/0kr405_  /m/0kr4090   /m/0bx7_j  \n",
      "450665  /m/0g8ngmc         NaN   /m/022g44  \n",
      "450666  /m/0g8ngmj         NaN  /m/0g8ngmm  \n",
      "450667  /m/0g8ngmw         NaN  /m/0btz19d  \n",
      "\n",
      "[450668 rows x 13 columns]\n"
     ]
    }
   ],
   "source": [
    "df = pd.read_table('MovieSummaries/character.metadata.tsv')\n",
    "print(df)"
   ]
  }
 ],
 "metadata": {
  "kernelspec": {
   "display_name": "Python [conda env:ada] *",
   "language": "python",
   "name": "conda-env-ada-py"
  },
  "language_info": {
   "codemirror_mode": {
    "name": "ipython",
    "version": 3
   },
   "file_extension": ".py",
   "mimetype": "text/x-python",
   "name": "python",
   "nbconvert_exporter": "python",
   "pygments_lexer": "ipython3",
   "version": "3.9.18"
  }
 },
 "nbformat": 4,
 "nbformat_minor": 5
}
