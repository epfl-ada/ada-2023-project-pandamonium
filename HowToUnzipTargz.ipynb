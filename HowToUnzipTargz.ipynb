{
 "cells": [
  {
   "cell_type": "code",
   "execution_count": 3,
   "id": "cc465ba3-35ad-48b0-bca0-b4f7c8be2507",
   "metadata": {},
   "outputs": [],
   "source": [
    "# run this only one time to unzip the tar.gz file\n",
    "\n",
    "import tarfile\n",
    "\n",
    "# Specify the path to your tar.gz file\n",
    "tar_gz_file = \"MovieSummaries.tar.gz\"\n",
    "\n",
    "# Open the tar.gz file for reading\n",
    "with tarfile.open(tar_gz_file, \"r:gz\") as tar:\n",
    "    # Extract all contents to a specific directory: (keep path empty)\n",
    "    tar.extractall(path=\"\")\n",
    "\n",
    "# The contents of the tar.gz file are now extracted to the specified directory\n"
   ]
  }
 ],
 "metadata": {
  "kernelspec": {
   "display_name": "Python 3 (ipykernel)",
   "language": "python",
   "name": "python3"
  },
  "language_info": {
   "codemirror_mode": {
    "name": "ipython",
    "version": 3
   },
   "file_extension": ".py",
   "mimetype": "text/x-python",
   "name": "python",
   "nbconvert_exporter": "python",
   "pygments_lexer": "ipython3",
   "version": "3.11.5"
  }
 },
 "nbformat": 4,
 "nbformat_minor": 5
}
