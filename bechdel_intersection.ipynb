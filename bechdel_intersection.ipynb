{
 "cells": [
  {
   "cell_type": "code",
   "execution_count": 1,
   "metadata": {},
   "outputs": [],
   "source": [
    "import numpy as np\n",
    "import pandas as pd\n",
    "import time\n",
    "from rapidfuzz import fuzz, utils"
   ]
  },
  {
   "cell_type": "markdown",
   "metadata": {},
   "source": [
    "### DATASET:\n",
    "https://www.kaggle.com/datasets/treelunar/bechdel-test-movies-as-of-feb-28-2023/\n",
    "\n",
    "*Common movies with strict search:* 5562\n",
    "\n",
    "*Common movies:* 6521\n",
    "\n",
    "*Exact Matches:* 5553\n",
    "\n",
    "*Partial Matches:* 968\n",
    "\n",
    "*Total Movies in CMU:* 81740\n",
    "\n",
    "*Total Movies in Bechdel Dataset:* 9902\n",
    "\n",
    "*Finished in* 840.4943616390228 seconds"
   ]
  },
  {
   "cell_type": "code",
   "execution_count": 2,
   "metadata": {},
   "outputs": [
    {
     "name": "stdout",
     "output_type": "stream",
     "text": [
      "81740 81740\n",
      "9902 9902\n"
     ]
    }
   ],
   "source": [
    "data_CMU = pd.read_csv('MovieSummaries/movie.metadata.tsv',sep='\\t')\n",
    "\n",
    "data_CMU.columns = ['1. Wikipedia movie ID',\n",
    "                          '2. Freebase movie ID',\n",
    "                          '3. Movie name',\n",
    "                          '4. Movie release date',\n",
    "                          '5. Movie box office revenue',\n",
    "                          '6. Movie runtime',\n",
    "                          '7. Movie languages (Freebase ID:name tuples)',\n",
    "                          '8. Movie countries (Freebase ID:name tuples)',\n",
    "                          '9. Movie genres (Freebase ID:name tuples)']\n",
    "\n",
    "data_CMU_year = data_CMU.iloc[:,3]\n",
    "data_CMU_name = data_CMU.iloc[:,2]\n",
    "\n",
    "data_bechdel = pd.read_csv('bechdel_movies_2023_FEB.csv')\n",
    "\n",
    "data_bechdel_year = data_bechdel[\"year\"]\n",
    "data_bechdel_name = data_bechdel[\"title\"]\n",
    "data_bechdel_score = data_bechdel[\"rating\"]\n",
    "\n",
    "data_CMU_name = list(data_CMU_name.to_numpy())\n",
    "data_bechdel_name = list(data_bechdel_name.to_numpy())\n",
    "\n",
    "data_CMU_year = list(data_CMU_year.to_numpy())\n",
    "data_bechdel_year = list(data_bechdel_year.to_numpy())\n",
    "\n",
    "print(len(data_CMU_name), len(data_CMU_year))\n",
    "print(len(data_bechdel_name), len(data_bechdel_year))"
   ]
  },
  {
   "cell_type": "code",
   "execution_count": 3,
   "metadata": {},
   "outputs": [
    {
     "name": "stdout",
     "output_type": "stream",
     "text": [
      "------------------% 0 passed!-----------------\n"
     ]
    },
    {
     "ename": "KeyboardInterrupt",
     "evalue": "",
     "output_type": "error",
     "traceback": [
      "\u001b[1;31m---------------------------------------------------------------------------\u001b[0m",
      "\u001b[1;31mKeyboardInterrupt\u001b[0m                         Traceback (most recent call last)",
      "Cell \u001b[1;32mIn[3], line 12\u001b[0m\n\u001b[0;32m     10\u001b[0m     \u001b[38;5;28mprint\u001b[39m(\u001b[38;5;124m\"\u001b[39m\u001b[38;5;124m------------------\u001b[39m\u001b[38;5;124m%\u001b[39m\u001b[38;5;124m\"\u001b[39m,\u001b[38;5;241m10\u001b[39m\u001b[38;5;241m*\u001b[39mcounter_progress ,\u001b[38;5;124m\"\u001b[39m\u001b[38;5;124mpassed!-----------------\u001b[39m\u001b[38;5;124m\"\u001b[39m)\n\u001b[0;32m     11\u001b[0m     counter_progress \u001b[38;5;241m+\u001b[39m\u001b[38;5;241m=\u001b[39m \u001b[38;5;241m1\u001b[39m\n\u001b[1;32m---> 12\u001b[0m \u001b[38;5;28;01mfor\u001b[39;00m movie2 \u001b[38;5;129;01min\u001b[39;00m \u001b[38;5;28mrange\u001b[39m(\u001b[38;5;28mlen\u001b[39m(data_bechdel_name)):\n\u001b[0;32m     14\u001b[0m     \u001b[38;5;28;01mif\u001b[39;00m data_CMU_name[movie1] \u001b[38;5;241m==\u001b[39m data_bechdel_name[movie2]:\n\u001b[0;32m     15\u001b[0m         counter_complete \u001b[38;5;241m+\u001b[39m\u001b[38;5;241m=\u001b[39m \u001b[38;5;241m1\u001b[39m\n",
      "\u001b[1;31mKeyboardInterrupt\u001b[0m: "
     ]
    }
   ],
   "source": [
    "start_time = time.time()\n",
    "counter_complete = 0\n",
    "counter_partial = 0\n",
    "counter_progress = 0\n",
    "index_list = []\n",
    "bechdel_score_list = []\n",
    "\n",
    "for movie1 in range(len(data_CMU_name)):\n",
    "    if movie1 % (len(data_CMU_name) // 10) == 0:\n",
    "        print(\"------------------%\",10*counter_progress ,\"passed!-----------------\")\n",
    "        counter_progress += 1\n",
    "    for movie2 in range(len(data_bechdel_name)):\n",
    "\n",
    "        if data_CMU_name[movie1] == data_bechdel_name[movie2]:\n",
    "            counter_complete += 1\n",
    "            index_list.append(movie1)\n",
    "            bechdel_score_list.append(data_bechdel_score[movie2])\n",
    "            break\n",
    "        #elif SM(isjunk = None, a = movie1.lower(), b = movie2.lower()).ratio() > 0.85:\n",
    "        elif fuzz.QRatio(data_CMU_name[movie1].lower(), data_bechdel_name[movie2].lower(), processor=utils.default_process) > 80:\n",
    "            year1 = str(data_CMU_year[movie1])\n",
    "            year2 = str(data_bechdel_year[movie2])\n",
    "\n",
    "            if \"-\" in year1:\n",
    "                year1 = year1.split(\"-\")[0]\n",
    "            \n",
    "            if year1 == year2:\n",
    "                #print(data_CMU_name[movie1], \"---\", data_bechdel_name[movie2])\n",
    "                #print(year1, \"---\", year2)\n",
    "                counter_partial += 1\n",
    "                index_list.append(movie1)\n",
    "                bechdel_score_list.append(data_bechdel_score[movie2])\n",
    "                break"
   ]
  },
  {
   "cell_type": "code",
   "execution_count": null,
   "metadata": {},
   "outputs": [],
   "source": [
    "print(\"Common movies:\", counter_complete + counter_partial)\n",
    "print(\"Exact Matches:\", counter_complete)\n",
    "print(\"Partial Matches\", counter_partial)\n",
    "print(\"Total Movies in CMU:\", len(data_CMU_name))\n",
    "print(\"Total Movies in Bechdel Dataset:\", len(data_bechdel_name))\n",
    "print(\"Finished in\", time.time() - start_time)"
   ]
  },
  {
   "cell_type": "code",
   "execution_count": null,
   "metadata": {},
   "outputs": [],
   "source": [
    "data_CMU_filtered = data_CMU.iloc[index_list,:]\n",
    "data_CMU_filtered[\"bechdel_score\"] = bechdel_score_list\n",
    "data_CMU_filtered.to_csv(\"CMU_bechdel_added.csv\")\n",
    "print(data_CMU_filtered)"
   ]
  },
  {
   "cell_type": "code",
   "execution_count": null,
   "metadata": {},
   "outputs": [],
   "source": []
  }
 ],
 "metadata": {
  "kernelspec": {
   "display_name": "Python 3 (ipykernel)",
   "language": "python",
   "name": "python3"
  },
  "language_info": {
   "codemirror_mode": {
    "name": "ipython",
    "version": 3
   },
   "file_extension": ".py",
   "mimetype": "text/x-python",
   "name": "python",
   "nbconvert_exporter": "python",
   "pygments_lexer": "ipython3",
   "version": "3.9.18"
  }
 },
 "nbformat": 4,
 "nbformat_minor": 4
}
