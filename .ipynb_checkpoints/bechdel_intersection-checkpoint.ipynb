{
 "cells": [
  {
   "cell_type": "code",
   "execution_count": 1,
   "metadata": {},
   "outputs": [],
   "source": [
    "import numpy as np\n",
    "import pandas as pd\n",
    "import time\n",
    "from rapidfuzz import fuzz, utils"
   ]
  },
  {
   "cell_type": "markdown",
   "metadata": {},
   "source": [
    "### DATASET:\n",
    "https://www.kaggle.com/datasets/treelunar/bechdel-test-movies-as-of-feb-28-2023/\n",
    "\n",
    "*Common movies with strict search:* 5562\n",
    "\n",
    "*Common movies:* 6521\n",
    "\n",
    "*Exact Matches:* 5553\n",
    "\n",
    "*Partial Matches:* 968\n",
    "\n",
    "*Total Movies in CMU:* 81740\n",
    "\n",
    "*Total Movies in Bechdel Dataset:* 9902\n",
    "\n",
    "*Finished in* 840.4943616390228 seconds"
   ]
  },
  {
   "cell_type": "code",
   "execution_count": 2,
   "metadata": {},
   "outputs": [
    {
     "name": "stdout",
     "output_type": "stream",
     "text": [
      "81740 81740\n",
      "9902 9902\n"
     ]
    }
   ],
   "source": [
    "data_CMU = pd.read_csv('MovieSummaries/movie.metadata.tsv',sep='\\t')\n",
    "\n",
    "data_CMU.columns = ['1. Wikipedia movie ID',\n",
    "                          '2. Freebase movie ID',\n",
    "                          '3. Movie name',\n",
    "                          '4. Movie release date',\n",
    "                          '5. Movie box office revenue',\n",
    "                          '6. Movie runtime',\n",
    "                          '7. Movie languages (Freebase ID:name tuples)',\n",
    "                          '8. Movie countries (Freebase ID:name tuples)',\n",
    "                          '9. Movie genres (Freebase ID:name tuples)']\n",
    "\n",
    "data_CMU_year = data_CMU.iloc[:,3]\n",
    "data_CMU_name = data_CMU.iloc[:,2]\n",
    "\n",
    "data_bechdel = pd.read_csv('bechdel_movies_2023_FEB.csv')\n",
    "\n",
    "data_bechdel_year = data_bechdel[\"year\"]\n",
    "data_bechdel_name = data_bechdel[\"title\"]\n",
    "data_bechdel_score = data_bechdel[\"rating\"]\n",
    "\n",
    "data_CMU_name = list(data_CMU_name.to_numpy())\n",
    "data_bechdel_name = list(data_bechdel_name.to_numpy())\n",
    "\n",
    "data_CMU_year = list(data_CMU_year.to_numpy())\n",
    "data_bechdel_year = list(data_bechdel_year.to_numpy())\n",
    "\n",
    "print(len(data_CMU_name), len(data_CMU_year))\n",
    "print(len(data_bechdel_name), len(data_bechdel_year))"
   ]
  },
  {
   "cell_type": "code",
   "execution_count": 3,
   "metadata": {},
   "outputs": [
    {
     "name": "stdout",
     "output_type": "stream",
     "text": [
      "------------------% 0 passed!-----------------\n",
      "------------------% 10 passed!-----------------\n",
      "------------------% 20 passed!-----------------\n",
      "------------------% 30 passed!-----------------\n",
      "------------------% 40 passed!-----------------\n",
      "------------------% 50 passed!-----------------\n",
      "------------------% 60 passed!-----------------\n",
      "------------------% 70 passed!-----------------\n",
      "------------------% 80 passed!-----------------\n",
      "------------------% 90 passed!-----------------\n"
     ]
    }
   ],
   "source": [
    "start_time = time.time()\n",
    "counter_complete = 0\n",
    "counter_partial = 0\n",
    "counter_progress = 0\n",
    "index_list = []\n",
    "bechdel_score_list = []\n",
    "\n",
    "for movie1 in range(len(data_CMU_name)):\n",
    "    if movie1 % (len(data_CMU_name) // 10) == 0:\n",
    "        print(\"------------------%\",10*counter_progress ,\"passed!-----------------\")\n",
    "        counter_progress += 1\n",
    "    for movie2 in range(len(data_bechdel_name)):\n",
    "\n",
    "        if data_CMU_name[movie1] == data_bechdel_name[movie2]:\n",
    "            counter_complete += 1\n",
    "            index_list.append(movie1)\n",
    "            bechdel_score_list.append(data_bechdel_score[movie2])\n",
    "            break\n",
    "        #elif SM(isjunk = None, a = movie1.lower(), b = movie2.lower()).ratio() > 0.85:\n",
    "        elif fuzz.QRatio(data_CMU_name[movie1].lower(), data_bechdel_name[movie2].lower(), processor=utils.default_process) > 80:\n",
    "            year1 = str(data_CMU_year[movie1])\n",
    "            year2 = str(data_bechdel_year[movie2])\n",
    "\n",
    "            if \"-\" in year1:\n",
    "                year1 = year1.split(\"-\")[0]\n",
    "            \n",
    "            if year1 == year2:\n",
    "                #print(data_CMU_name[movie1], \"---\", data_bechdel_name[movie2])\n",
    "                #print(year1, \"---\", year2)\n",
    "                counter_partial += 1\n",
    "                index_list.append(movie1)\n",
    "                bechdel_score_list.append(data_bechdel_score[movie2])\n",
    "                break"
   ]
  },
  {
   "cell_type": "code",
   "execution_count": 4,
   "metadata": {},
   "outputs": [
    {
     "name": "stdout",
     "output_type": "stream",
     "text": [
      "Common movies: 6521\n",
      "Exact Matches: 5553\n",
      "Partial Matches 968\n",
      "Total Movies in CMU: 81740\n",
      "Total Movies in Bechdel Dataset: 9902\n",
      "Finished in 2443.6035759449005\n"
     ]
    }
   ],
   "source": [
    "print(\"Common movies:\", counter_complete + counter_partial)\n",
    "print(\"Exact Matches:\", counter_complete)\n",
    "print(\"Partial Matches\", counter_partial)\n",
    "print(\"Total Movies in CMU:\", len(data_CMU_name))\n",
    "print(\"Total Movies in Bechdel Dataset:\", len(data_bechdel_name))\n",
    "print(\"Finished in\", time.time() - start_time)"
   ]
  },
  {
   "cell_type": "code",
   "execution_count": 5,
   "metadata": {},
   "outputs": [
    {
     "name": "stdout",
     "output_type": "stream",
     "text": [
      "       1. Wikipedia movie ID 2. Freebase movie ID      3. Movie name  \\\n",
      "8                    2345652            /m/075f66   City of the Dead   \n",
      "12                    171005            /m/016ywb            Henry V   \n",
      "16                     77856             /m/0kcn7       Mary Poppins   \n",
      "42                  26878691            /m/0f400r  Mysterious Island   \n",
      "56                  11633165           /m/02rm6l8          Innocence   \n",
      "...                      ...                  ...                ...   \n",
      "81693                1191380            /m/04f_y7              Wilde   \n",
      "81694                  54540             /m/0f7hw  Coming to America   \n",
      "81702               21772949           /m/05mspcd             Casbah   \n",
      "81718               20244619           /m/04_0j2b             Mirage   \n",
      "81725                 664006            /m/030xw6      Guilty as Sin   \n",
      "\n",
      "      4. Movie release date  5. Movie box office revenue  6. Movie runtime  \\\n",
      "8                      1960                          NaN              76.0   \n",
      "12               1989-11-08                   10161099.0             137.0   \n",
      "16               1964-08-27                  102272727.0             139.0   \n",
      "42                     1982                          NaN             100.0   \n",
      "56                     1997                          NaN             110.0   \n",
      "...                     ...                          ...               ...   \n",
      "81693                  1997                    2158775.0             118.0   \n",
      "81694            1988-06-29                  288752301.0             117.0   \n",
      "81702               1948-04                          NaN              94.0   \n",
      "81718                  1972                          NaN              82.0   \n",
      "81725            1993-06-04                   22886222.0             107.0   \n",
      "\n",
      "      7. Movie languages (Freebase ID:name tuples)  \\\n",
      "8               {\"/m/02h40lc\": \"English Language\"}   \n",
      "12              {\"/m/02h40lc\": \"English Language\"}   \n",
      "16              {\"/m/02h40lc\": \"English Language\"}   \n",
      "42               {\"/m/0653m\": \"Standard Mandarin\"}   \n",
      "56              {\"/m/02hwyss\": \"Turkish Language\"}   \n",
      "...                                            ...   \n",
      "81693           {\"/m/02h40lc\": \"English Language\"}   \n",
      "81694           {\"/m/02h40lc\": \"English Language\"}   \n",
      "81702           {\"/m/02h40lc\": \"English Language\"}   \n",
      "81718             {\"/m/06nm1\": \"Spanish Language\"}   \n",
      "81725                                           {}   \n",
      "\n",
      "            8. Movie countries (Freebase ID:name tuples)  \\\n",
      "8                         {\"/m/07ssc\": \"United Kingdom\"}   \n",
      "12                        {\"/m/07ssc\": \"United Kingdom\"}   \n",
      "16             {\"/m/09c7w0\": \"United States of America\"}   \n",
      "42                             {\"/m/03h64\": \"Hong Kong\"}   \n",
      "56                               {\"/m/01znc_\": \"Turkey\"}   \n",
      "...                                                  ...   \n",
      "81693  {\"/m/014tss\": \"Kingdom of Great Britain\", \"/m/...   \n",
      "81694          {\"/m/09c7w0\": \"United States of America\"}   \n",
      "81702          {\"/m/09c7w0\": \"United States of America\"}   \n",
      "81718                              {\"/m/016wzw\": \"Peru\"}   \n",
      "81725          {\"/m/09c7w0\": \"United States of America\"}   \n",
      "\n",
      "               9. Movie genres (Freebase ID:name tuples)  bechdel_score  \n",
      "8      {\"/m/03npn\": \"Horror\", \"/m/0fdjb\": \"Supernatur...              3  \n",
      "12     {\"/m/04xvh5\": \"Costume drama\", \"/m/082gq\": \"Wa...              3  \n",
      "16     {\"/m/0hj3myq\": \"Children's/Family\", \"/m/04t36\"...              3  \n",
      "42     {\"/m/03btsm8\": \"Action/Adventure\", \"/m/08322\":...              0  \n",
      "56     {\"/m/0lsxr\": \"Crime Fiction\", \"/m/07s9rl0\": \"D...              3  \n",
      "...                                                  ...            ...  \n",
      "81693  {\"/m/0hn10\": \"LGBT\", \"/m/017fp\": \"Biography\", ...              3  \n",
      "81694  {\"/m/06cvj\": \"Romantic comedy\", \"/m/03p5xs\": \"...              3  \n",
      "81702  {\"/m/0lsxr\": \"Crime Fiction\", \"/m/04t36\": \"Mus...              1  \n",
      "81718  {\"/m/07s9rl0\": \"Drama\", \"/m/03q4nz\": \"World ci...              3  \n",
      "81725  {\"/m/01jfsb\": \"Thriller\", \"/m/0glj9q\": \"Erotic...              2  \n",
      "\n",
      "[6521 rows x 10 columns]\n"
     ]
    },
    {
     "name": "stderr",
     "output_type": "stream",
     "text": [
      "<ipython-input-5-e21408803980>:2: SettingWithCopyWarning: \n",
      "A value is trying to be set on a copy of a slice from a DataFrame.\n",
      "Try using .loc[row_indexer,col_indexer] = value instead\n",
      "\n",
      "See the caveats in the documentation: https://pandas.pydata.org/pandas-docs/stable/user_guide/indexing.html#returning-a-view-versus-a-copy\n",
      "  data_CMU_filtered[\"bechdel_score\"] = bechdel_score_list\n"
     ]
    }
   ],
   "source": [
    "data_CMU_filtered = data_CMU.iloc[index_list,:]\n",
    "data_CMU_filtered[\"bechdel_score\"] = bechdel_score_list\n",
    "data_CMU_filtered.to_csv(\"CMU_bechdel_added.csv\")\n",
    "print(data_CMU_filtered)"
   ]
  },
  {
   "cell_type": "code",
   "execution_count": null,
   "metadata": {},
   "outputs": [],
   "source": []
  }
 ],
 "metadata": {
  "kernelspec": {
   "display_name": "Python 3",
   "language": "python",
   "name": "python3"
  },
  "language_info": {
   "codemirror_mode": {
    "name": "ipython",
    "version": 3
   },
   "file_extension": ".py",
   "mimetype": "text/x-python",
   "name": "python",
   "nbconvert_exporter": "python",
   "pygments_lexer": "ipython3",
   "version": "3.8.5"
  }
 },
 "nbformat": 4,
 "nbformat_minor": 4
}
