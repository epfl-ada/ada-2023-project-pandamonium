{
  "nbformat": 4,
  "nbformat_minor": 0,
  "metadata": {
    "colab": {
      "provenance": []
    },
    "kernelspec": {
      "name": "python3",
      "display_name": "Python 3"
    },
    "language_info": {
      "name": "python"
    }
  },
  "cells": [
    {
      "cell_type": "code",
      "execution_count": null,
      "metadata": {
        "id": "mwoNf96rKIxy"
      },
      "outputs": [],
      "source": [
        "import keras\n",
        "import pandas as pd\n",
        "import numpy as np\n",
        "import tensorflow as tf"
      ]
    },
    {
      "cell_type": "code",
      "source": [
        "dataset = pd.read_csv(\"movie_metadata_all_features.csv\")\n",
        "\n",
        "dataset = dataset[[\"actor_mention_score\",\n",
        "                             \"negative\",\n",
        "                             \"positive\",\n",
        "                             \"neutral\",\n",
        "                             \"female_ratio\",\n",
        "                             \"gender_density\",\n",
        "                             \"bechdel_score\"]]\n",
        "\n",
        "dataset = dataset.dropna()\n",
        "print(dataset)\n",
        "\n",
        "dataset = dataset.to_numpy()\n",
        "print(dataset.shape)\n",
        "labels = dataset[:,-1]\n",
        "dataset = dataset[:,:-1]\n",
        "print(dataset.shape, labels.shape)\n",
        "\n",
        "labels = labels.astype(int)\n",
        "b = np.zeros((labels.shape[0], labels.max() + 1))\n",
        "b[np.arange(labels.shape[0]), labels] = 1\n",
        "print(b)"
      ],
      "metadata": {
        "colab": {
          "base_uri": "https://localhost:8080/"
        },
        "id": "WvhLkHyOKTzK",
        "outputId": "d4626379-4de0-4ad8-a009-fe8c7767bb89"
      },
      "execution_count": null,
      "outputs": [
        {
          "output_type": "stream",
          "name": "stdout",
          "text": [
            "      actor_mention_score  negative  positive   neutral  female_ratio  \\\n",
            "0                  0.2500  0.048826  0.120614  0.830560      0.150000   \n",
            "1                  0.5345  0.129004  0.179076  0.691920      0.461538   \n",
            "2                  0.2830  0.252773  0.112999  0.634228      0.428571   \n",
            "5                  1.0000  0.331542  0.086043  0.582415      0.250000   \n",
            "7                  0.2500  0.640489  0.023423  0.336088      0.285714   \n",
            "...                   ...       ...       ...       ...           ...   \n",
            "5188               0.2222  0.333736  0.058590  0.607674      0.294118   \n",
            "5189               0.7500  0.384289  0.049881  0.565830      0.235294   \n",
            "5190               0.1667  0.131713  0.176800  0.691487      0.454545   \n",
            "5191               0.5200  0.317630  0.097013  0.585357      0.285714   \n",
            "5193               0.0000  0.511130  0.049057  0.439813      0.375000   \n",
            "\n",
            "      gender_density  bechdel_score  \n",
            "0           0.000000              3  \n",
            "1           0.333333              3  \n",
            "2           0.240000              3  \n",
            "5           0.868421              3  \n",
            "7           0.600000              2  \n",
            "...              ...            ...  \n",
            "5188        0.636364              3  \n",
            "5189        0.206897              1  \n",
            "5190        0.055556              3  \n",
            "5191        0.206897              3  \n",
            "5193        0.651163              2  \n",
            "\n",
            "[3856 rows x 7 columns]\n",
            "(3856, 7)\n",
            "(3856, 6) (3856,)\n",
            "[[0. 0. 0. 1.]\n",
            " [0. 0. 0. 1.]\n",
            " [0. 0. 0. 1.]\n",
            " ...\n",
            " [0. 0. 0. 1.]\n",
            " [0. 0. 0. 1.]\n",
            " [0. 0. 1. 0.]]\n"
          ]
        }
      ]
    },
    {
      "cell_type": "code",
      "source": [
        "dataset = (dataset - dataset.mean())/(dataset.std())\n",
        "\n",
        "model = tf.keras.Sequential([\n",
        "    tf.keras.layers.Dense(6, input_shape=(6,), activation='relu'),\n",
        "    tf.keras.layers.Dense(4)\n",
        "])\n",
        "\n",
        "model.compile(optimizer='adam',\n",
        "              loss=tf.keras.losses.SparseCategoricalCrossentropy(from_logits=True),\n",
        "              metrics=['accuracy'])\n",
        "\n",
        "model.fit(dataset, labels, epochs=20)"
      ],
      "metadata": {
        "colab": {
          "base_uri": "https://localhost:8080/"
        },
        "id": "HSt-rV-jKuvK",
        "outputId": "3e7c415d-3dcc-429a-c343-0a79ecc43a5b"
      },
      "execution_count": null,
      "outputs": [
        {
          "output_type": "stream",
          "name": "stdout",
          "text": [
            "Epoch 1/20\n",
            "121/121 [==============================] - 1s 2ms/step - loss: 1.5865 - accuracy: 0.2303\n",
            "Epoch 2/20\n",
            "121/121 [==============================] - 0s 2ms/step - loss: 1.3326 - accuracy: 0.4702\n",
            "Epoch 3/20\n",
            "121/121 [==============================] - 0s 2ms/step - loss: 1.2478 - accuracy: 0.5545\n",
            "Epoch 4/20\n",
            "121/121 [==============================] - 0s 2ms/step - loss: 1.2009 - accuracy: 0.5832\n",
            "Epoch 5/20\n",
            "121/121 [==============================] - 0s 2ms/step - loss: 1.1647 - accuracy: 0.5897\n",
            "Epoch 6/20\n",
            "121/121 [==============================] - 0s 2ms/step - loss: 1.1341 - accuracy: 0.5908\n",
            "Epoch 7/20\n",
            "121/121 [==============================] - 0s 2ms/step - loss: 1.1083 - accuracy: 0.5939\n",
            "Epoch 8/20\n",
            "121/121 [==============================] - 0s 1ms/step - loss: 1.0856 - accuracy: 0.5967\n",
            "Epoch 9/20\n",
            "121/121 [==============================] - 0s 2ms/step - loss: 1.0663 - accuracy: 0.6011\n",
            "Epoch 10/20\n",
            "121/121 [==============================] - 0s 2ms/step - loss: 1.0454 - accuracy: 0.6030\n",
            "Epoch 11/20\n",
            "121/121 [==============================] - 0s 2ms/step - loss: 1.0168 - accuracy: 0.6040\n",
            "Epoch 12/20\n",
            "121/121 [==============================] - 0s 2ms/step - loss: 0.9928 - accuracy: 0.6084\n",
            "Epoch 13/20\n",
            "121/121 [==============================] - 0s 1ms/step - loss: 0.9804 - accuracy: 0.6092\n",
            "Epoch 14/20\n",
            "121/121 [==============================] - 0s 1ms/step - loss: 0.9737 - accuracy: 0.6071\n",
            "Epoch 15/20\n",
            "121/121 [==============================] - 0s 2ms/step - loss: 0.9690 - accuracy: 0.6131\n",
            "Epoch 16/20\n",
            "121/121 [==============================] - 0s 2ms/step - loss: 0.9655 - accuracy: 0.6123\n",
            "Epoch 17/20\n",
            "121/121 [==============================] - 0s 2ms/step - loss: 0.9631 - accuracy: 0.6120\n",
            "Epoch 18/20\n",
            "121/121 [==============================] - 0s 2ms/step - loss: 0.9609 - accuracy: 0.6123\n",
            "Epoch 19/20\n",
            "121/121 [==============================] - 0s 2ms/step - loss: 0.9595 - accuracy: 0.6131\n",
            "Epoch 20/20\n",
            "121/121 [==============================] - 0s 2ms/step - loss: 0.9578 - accuracy: 0.6126\n"
          ]
        },
        {
          "output_type": "execute_result",
          "data": {
            "text/plain": [
              "<keras.src.callbacks.History at 0x7e2ce36e58a0>"
            ]
          },
          "metadata": {},
          "execution_count": 19
        }
      ]
    }
  ]
}