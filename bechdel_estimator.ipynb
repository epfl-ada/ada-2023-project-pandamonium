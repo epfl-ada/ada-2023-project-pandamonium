{
 "cells": [
  {
   "cell_type": "code",
   "execution_count": 18,
   "metadata": {},
   "outputs": [],
   "source": [
    "import numpy as np\n",
    "import pandas as pd\n",
    "from sklearn.ensemble import RandomForestClassifier\n",
    "from sklearn.feature_selection import SelectFromModel\n",
    "from sklearn.model_selection import train_test_split\n",
    "from sklearn.metrics import accuracy_score"
   ]
  },
  {
   "cell_type": "code",
   "execution_count": 43,
   "metadata": {},
   "outputs": [
    {
     "name": "stdout",
     "output_type": "stream",
     "text": [
      "      actor_mention_score  negative  positive   neutral  female_ratio  \\\n",
      "0                  0.2500  0.048826  0.120614  0.830560      0.150000   \n",
      "1                  0.5345  0.129004  0.179076  0.691920      0.461538   \n",
      "2                  0.2830  0.252773  0.112999  0.634228      0.428571   \n",
      "5                  1.0000  0.331542  0.086043  0.582415      0.250000   \n",
      "7                  0.2500  0.640489  0.023423  0.336088      0.285714   \n",
      "...                   ...       ...       ...       ...           ...   \n",
      "5188               0.2222  0.333736  0.058590  0.607674      0.294118   \n",
      "5189               0.7500  0.384289  0.049881  0.565830      0.235294   \n",
      "5190               0.1667  0.131713  0.176800  0.691487      0.454545   \n",
      "5191               0.5200  0.317630  0.097013  0.585357      0.285714   \n",
      "5193               0.0000  0.511130  0.049057  0.439813      0.375000   \n",
      "\n",
      "      gender_density  bechdel_binary  \n",
      "0           0.000000               1  \n",
      "1           0.333333               1  \n",
      "2           0.240000               1  \n",
      "5           0.868421               1  \n",
      "7           0.600000               0  \n",
      "...              ...             ...  \n",
      "5188        0.636364               1  \n",
      "5189        0.206897               0  \n",
      "5190        0.055556               1  \n",
      "5191        0.206897               1  \n",
      "5193        0.651163               0  \n",
      "\n",
      "[3856 rows x 7 columns]\n",
      "(3856, 7)\n",
      "(3856, 6) (3856,)\n"
     ]
    }
   ],
   "source": [
    "bechdel_movies = pd.read_csv('movie_metadata_all_features.csv')\n",
    "\n",
    "rf_features = bechdel_movies[[\"actor_mention_score\",\n",
    "                             \"negative\",\n",
    "                             \"positive\",\n",
    "                             \"neutral\",\n",
    "                             \"female_ratio\",\n",
    "                             \"gender_density\",\n",
    "                             \"bechdel_binary\"]]\n",
    "\n",
    "rf_features = rf_features.dropna()\n",
    "print(rf_features)\n",
    "\n",
    "rf_features = rf_features.to_numpy()\n",
    "print(rf_features.shape)\n",
    "rf_labels = rf_features[:,-1]\n",
    "rf_features = rf_features[:,:-1]\n",
    "print(rf_features.shape, rf_labels.shape)\n"
   ]
  },
  {
   "cell_type": "code",
   "execution_count": 44,
   "metadata": {},
   "outputs": [
    {
     "name": "stdout",
     "output_type": "stream",
     "text": [
      "After train-test splitting:\n",
      "(2699, 6) (2699,) (1157, 6) (1157,)\n"
     ]
    }
   ],
   "source": [
    "x_train, x_test, y_train, y_test = train_test_split(rf_features, rf_labels,test_size=0.3)\n",
    "\n",
    "print(\"After train-test splitting:\")\n",
    "print(x_train.shape, y_train.shape, x_test.shape, y_test.shape)"
   ]
  },
  {
   "cell_type": "code",
   "execution_count": 45,
   "metadata": {},
   "outputs": [
    {
     "data": {
      "text/plain": [
       "RandomForestClassifier()"
      ]
     },
     "execution_count": 45,
     "metadata": {},
     "output_type": "execute_result"
    }
   ],
   "source": [
    "rf = RandomForestClassifier(n_estimators = 100)\n",
    "#rf_best = SelectFromModel(rf)\n",
    "rf.fit(x_train, y_train)\n",
    "#rf.get_support()"
   ]
  },
  {
   "cell_type": "code",
   "execution_count": 46,
   "metadata": {},
   "outputs": [
    {
     "name": "stdout",
     "output_type": "stream",
     "text": [
      "Test Accuracy: 0.7199654278305964\n"
     ]
    }
   ],
   "source": [
    "y_pred = rf.predict(x_test)\n",
    "\n",
    "accuracy = accuracy_score(y_test, y_pred)\n",
    "print(\"Test Accuracy:\", accuracy)"
   ]
  },
  {
   "cell_type": "code",
   "execution_count": 22,
   "metadata": {},
   "outputs": [
    {
     "name": "stdout",
     "output_type": "stream",
     "text": [
      "[3. 3. 1. ... 0. 3. 3.]\n"
     ]
    }
   ],
   "source": [
    "\"actor_mention_score\",\n",
    "                             \"negative\",\n",
    "                             \"positive\",\n",
    "                             \"neutral\",\n",
    "                             \"female_ratio\",\n",
    "                             \"gender_density\","
   ]
  },
  {
   "cell_type": "code",
   "execution_count": 33,
   "metadata": {},
   "outputs": [
    {
     "name": "stdout",
     "output_type": "stream",
     "text": [
      "Test Accuracy: 0.5185825410544511\n"
     ]
    }
   ],
   "source": [
    "#\"actor_mention_score\"\n",
    "rf = RandomForestClassifier(n_estimators = 100)\n",
    "rf.fit(np.expand_dims(x_train[:,0], axis = -1), y_train)\n",
    "y_pred = rf.predict(np.expand_dims(x_test[:,0], axis = -1))\n",
    "accuracy = accuracy_score(y_test, y_pred)\n",
    "print(\"Test Accuracy:\", accuracy)"
   ]
  },
  {
   "cell_type": "code",
   "execution_count": 34,
   "metadata": {},
   "outputs": [
    {
     "name": "stdout",
     "output_type": "stream",
     "text": [
      "Test Accuracy: 0.39671564390665515\n"
     ]
    }
   ],
   "source": [
    "#negative\n",
    "rf = RandomForestClassifier(n_estimators = 100)\n",
    "rf.fit(np.expand_dims(x_train[:,1], axis = -1), y_train)\n",
    "y_pred = rf.predict(np.expand_dims(x_test[:,1], axis = -1))\n",
    "accuracy = accuracy_score(y_test, y_pred)\n",
    "print(\"Test Accuracy:\", accuracy)"
   ]
  },
  {
   "cell_type": "code",
   "execution_count": 35,
   "metadata": {},
   "outputs": [
    {
     "name": "stdout",
     "output_type": "stream",
     "text": [
      "Test Accuracy: 0.39844425237683667\n"
     ]
    }
   ],
   "source": [
    "#positive\n",
    "rf = RandomForestClassifier(n_estimators = 100)\n",
    "rf.fit(np.expand_dims(x_train[:,2], axis = -1), y_train)\n",
    "y_pred = rf.predict(np.expand_dims(x_test[:,2], axis = -1))\n",
    "accuracy = accuracy_score(y_test, y_pred)\n",
    "print(\"Test Accuracy:\", accuracy)"
   ]
  },
  {
   "cell_type": "code",
   "execution_count": 36,
   "metadata": {},
   "outputs": [
    {
     "name": "stdout",
     "output_type": "stream",
     "text": [
      "Test Accuracy: 0.3993085566119274\n"
     ]
    }
   ],
   "source": [
    "#neutral\n",
    "rf = RandomForestClassifier(n_estimators = 100)\n",
    "rf.fit(np.expand_dims(x_train[:,3], axis = -1), y_train)\n",
    "y_pred = rf.predict(np.expand_dims(x_test[:,3], axis = -1))\n",
    "accuracy = accuracy_score(y_test, y_pred)\n",
    "print(\"Test Accuracy:\", accuracy)"
   ]
  },
  {
   "cell_type": "code",
   "execution_count": 37,
   "metadata": {},
   "outputs": [
    {
     "name": "stdout",
     "output_type": "stream",
     "text": [
      "Test Accuracy: 0.5799481417458946\n"
     ]
    }
   ],
   "source": [
    "#female cast ratio\n",
    "rf = RandomForestClassifier(n_estimators = 100)\n",
    "rf.fit(np.expand_dims(x_train[:,4], axis = -1), y_train)\n",
    "y_pred = rf.predict(np.expand_dims(x_test[:,4], axis = -1))\n",
    "accuracy = accuracy_score(y_test, y_pred)\n",
    "print(\"Test Accuracy:\", accuracy)"
   ]
  },
  {
   "cell_type": "code",
   "execution_count": 42,
   "metadata": {},
   "outputs": [
    {
     "name": "stdout",
     "output_type": "stream",
     "text": [
      "Test Accuracy: 0.5393258426966292\n"
     ]
    }
   ],
   "source": [
    "#gender mention density\n",
    "rf = RandomForestClassifier(n_estimators = 100)\n",
    "rf.fit(np.expand_dims(x_train[:,5], axis = -1), y_train)\n",
    "y_pred = rf.predict(np.expand_dims(x_test[:,5], axis = -1))\n",
    "accuracy = accuracy_score(y_test, y_pred)\n",
    "print(\"Test Accuracy:\", accuracy)"
   ]
  },
  {
   "cell_type": "code",
   "execution_count": null,
   "metadata": {},
   "outputs": [],
   "source": []
  }
 ],
 "metadata": {
  "kernelspec": {
   "display_name": "Python 3",
   "language": "python",
   "name": "python3"
  },
  "language_info": {
   "codemirror_mode": {
    "name": "ipython",
    "version": 3
   },
   "file_extension": ".py",
   "mimetype": "text/x-python",
   "name": "python",
   "nbconvert_exporter": "python",
   "pygments_lexer": "ipython3",
   "version": "3.8.5"
  }
 },
 "nbformat": 4,
 "nbformat_minor": 4
}
