{
 "cells": [
  {
   "cell_type": "code",
   "execution_count": 1,
   "metadata": {},
   "outputs": [],
   "source": [
    "import numpy as np\n",
    "import pandas as pd\n",
    "from sklearn.ensemble import RandomForestClassifier\n",
    "from sklearn.feature_selection import SelectFromModel\n",
    "from sklearn.model_selection import train_test_split\n",
    "from sklearn.metrics import accuracy_score"
   ]
  },
  {
   "cell_type": "code",
   "execution_count": 2,
   "metadata": {},
   "outputs": [
    {
     "name": "stdout",
     "output_type": "stream",
     "text": [
      "      actor_mention_score  negative  positive   neutral  female_ratio  \\\n",
      "0                  0.2500  0.048826  0.120614  0.830560      0.150000   \n",
      "1                  0.5345  0.129004  0.179076  0.691920      0.461538   \n",
      "2                  0.2830  0.252773  0.112999  0.634228      0.428571   \n",
      "5                  1.0000  0.331542  0.086043  0.582415      0.250000   \n",
      "7                  0.2500  0.640489  0.023423  0.336088      0.285714   \n",
      "...                   ...       ...       ...       ...           ...   \n",
      "5188               0.2222  0.333736  0.058590  0.607674      0.294118   \n",
      "5189               0.7500  0.384289  0.049881  0.565830      0.235294   \n",
      "5190               0.1667  0.131713  0.176800  0.691487      0.454545   \n",
      "5191               0.5200  0.317630  0.097013  0.585357      0.285714   \n",
      "5193               0.0000  0.511130  0.049057  0.439813      0.375000   \n",
      "\n",
      "      gender_density  bechdel_binary  \n",
      "0           0.000000               1  \n",
      "1           0.333333               1  \n",
      "2           0.240000               1  \n",
      "5           0.868421               1  \n",
      "7           0.600000               0  \n",
      "...              ...             ...  \n",
      "5188        0.636364               1  \n",
      "5189        0.206897               0  \n",
      "5190        0.055556               1  \n",
      "5191        0.206897               1  \n",
      "5193        0.651163               0  \n",
      "\n",
      "[3856 rows x 7 columns]\n",
      "(3856, 7)\n",
      "(3856, 6) (3856,)\n"
     ]
    }
   ],
   "source": [
    "bechdel_movies = pd.read_csv('movie_metadata_all_features.csv')\n",
    "\n",
    "rf_features = bechdel_movies[[\"actor_mention_score\",\n",
    "                             \"negative\",\n",
    "                             \"positive\",\n",
    "                             \"neutral\",\n",
    "                             \"female_ratio\",\n",
    "                             \"gender_density\",\n",
    "                             \"bechdel_binary\"]]\n",
    "\n",
    "rf_features = rf_features.dropna()\n",
    "print(rf_features)\n",
    "\n",
    "rf_features = rf_features.to_numpy()\n",
    "print(rf_features.shape)\n",
    "rf_labels = rf_features[:,-1]\n",
    "rf_features = rf_features[:,:-1]\n",
    "print(rf_features.shape, rf_labels.shape)\n"
   ]
  },
  {
   "cell_type": "code",
   "execution_count": 3,
   "metadata": {},
   "outputs": [
    {
     "name": "stdout",
     "output_type": "stream",
     "text": [
      "After train-test splitting:\n",
      "(2699, 6) (2699,) (1157, 6) (1157,)\n"
     ]
    }
   ],
   "source": [
    "x_train, x_test, y_train, y_test = train_test_split(rf_features, rf_labels,test_size=0.3)\n",
    "\n",
    "print(\"After train-test splitting:\")\n",
    "print(x_train.shape, y_train.shape, x_test.shape, y_test.shape)"
   ]
  },
  {
   "cell_type": "code",
   "execution_count": 4,
   "metadata": {},
   "outputs": [
    {
     "data": {
      "text/html": [
       "<style>#sk-container-id-1 {color: black;}#sk-container-id-1 pre{padding: 0;}#sk-container-id-1 div.sk-toggleable {background-color: white;}#sk-container-id-1 label.sk-toggleable__label {cursor: pointer;display: block;width: 100%;margin-bottom: 0;padding: 0.3em;box-sizing: border-box;text-align: center;}#sk-container-id-1 label.sk-toggleable__label-arrow:before {content: \"▸\";float: left;margin-right: 0.25em;color: #696969;}#sk-container-id-1 label.sk-toggleable__label-arrow:hover:before {color: black;}#sk-container-id-1 div.sk-estimator:hover label.sk-toggleable__label-arrow:before {color: black;}#sk-container-id-1 div.sk-toggleable__content {max-height: 0;max-width: 0;overflow: hidden;text-align: left;background-color: #f0f8ff;}#sk-container-id-1 div.sk-toggleable__content pre {margin: 0.2em;color: black;border-radius: 0.25em;background-color: #f0f8ff;}#sk-container-id-1 input.sk-toggleable__control:checked~div.sk-toggleable__content {max-height: 200px;max-width: 100%;overflow: auto;}#sk-container-id-1 input.sk-toggleable__control:checked~label.sk-toggleable__label-arrow:before {content: \"▾\";}#sk-container-id-1 div.sk-estimator input.sk-toggleable__control:checked~label.sk-toggleable__label {background-color: #d4ebff;}#sk-container-id-1 div.sk-label input.sk-toggleable__control:checked~label.sk-toggleable__label {background-color: #d4ebff;}#sk-container-id-1 input.sk-hidden--visually {border: 0;clip: rect(1px 1px 1px 1px);clip: rect(1px, 1px, 1px, 1px);height: 1px;margin: -1px;overflow: hidden;padding: 0;position: absolute;width: 1px;}#sk-container-id-1 div.sk-estimator {font-family: monospace;background-color: #f0f8ff;border: 1px dotted black;border-radius: 0.25em;box-sizing: border-box;margin-bottom: 0.5em;}#sk-container-id-1 div.sk-estimator:hover {background-color: #d4ebff;}#sk-container-id-1 div.sk-parallel-item::after {content: \"\";width: 100%;border-bottom: 1px solid gray;flex-grow: 1;}#sk-container-id-1 div.sk-label:hover label.sk-toggleable__label {background-color: #d4ebff;}#sk-container-id-1 div.sk-serial::before {content: \"\";position: absolute;border-left: 1px solid gray;box-sizing: border-box;top: 0;bottom: 0;left: 50%;z-index: 0;}#sk-container-id-1 div.sk-serial {display: flex;flex-direction: column;align-items: center;background-color: white;padding-right: 0.2em;padding-left: 0.2em;position: relative;}#sk-container-id-1 div.sk-item {position: relative;z-index: 1;}#sk-container-id-1 div.sk-parallel {display: flex;align-items: stretch;justify-content: center;background-color: white;position: relative;}#sk-container-id-1 div.sk-item::before, #sk-container-id-1 div.sk-parallel-item::before {content: \"\";position: absolute;border-left: 1px solid gray;box-sizing: border-box;top: 0;bottom: 0;left: 50%;z-index: -1;}#sk-container-id-1 div.sk-parallel-item {display: flex;flex-direction: column;z-index: 1;position: relative;background-color: white;}#sk-container-id-1 div.sk-parallel-item:first-child::after {align-self: flex-end;width: 50%;}#sk-container-id-1 div.sk-parallel-item:last-child::after {align-self: flex-start;width: 50%;}#sk-container-id-1 div.sk-parallel-item:only-child::after {width: 0;}#sk-container-id-1 div.sk-dashed-wrapped {border: 1px dashed gray;margin: 0 0.4em 0.5em 0.4em;box-sizing: border-box;padding-bottom: 0.4em;background-color: white;}#sk-container-id-1 div.sk-label label {font-family: monospace;font-weight: bold;display: inline-block;line-height: 1.2em;}#sk-container-id-1 div.sk-label-container {text-align: center;}#sk-container-id-1 div.sk-container {/* jupyter's `normalize.less` sets `[hidden] { display: none; }` but bootstrap.min.css set `[hidden] { display: none !important; }` so we also need the `!important` here to be able to override the default hidden behavior on the sphinx rendered scikit-learn.org. See: https://github.com/scikit-learn/scikit-learn/issues/21755 */display: inline-block !important;position: relative;}#sk-container-id-1 div.sk-text-repr-fallback {display: none;}</style><div id=\"sk-container-id-1\" class=\"sk-top-container\"><div class=\"sk-text-repr-fallback\"><pre>RandomForestClassifier()</pre><b>In a Jupyter environment, please rerun this cell to show the HTML representation or trust the notebook. <br />On GitHub, the HTML representation is unable to render, please try loading this page with nbviewer.org.</b></div><div class=\"sk-container\" hidden><div class=\"sk-item\"><div class=\"sk-estimator sk-toggleable\"><input class=\"sk-toggleable__control sk-hidden--visually\" id=\"sk-estimator-id-1\" type=\"checkbox\" checked><label for=\"sk-estimator-id-1\" class=\"sk-toggleable__label sk-toggleable__label-arrow\">RandomForestClassifier</label><div class=\"sk-toggleable__content\"><pre>RandomForestClassifier()</pre></div></div></div></div></div>"
      ],
      "text/plain": [
       "RandomForestClassifier()"
      ]
     },
     "execution_count": 4,
     "metadata": {},
     "output_type": "execute_result"
    }
   ],
   "source": [
    "rf = RandomForestClassifier(n_estimators = 100)\n",
    "#rf_best = SelectFromModel(rf)\n",
    "rf.fit(x_train, y_train)\n",
    "#rf.get_support()"
   ]
  },
  {
   "cell_type": "code",
   "execution_count": 5,
   "metadata": {},
   "outputs": [
    {
     "name": "stdout",
     "output_type": "stream",
     "text": [
      "Test Accuracy: 0.7104580812445981\n"
     ]
    }
   ],
   "source": [
    "y_pred = rf.predict(x_test)\n",
    "\n",
    "accuracy = accuracy_score(y_test, y_pred)\n",
    "print(\"Test Accuracy:\", accuracy)"
   ]
  },
  {
   "cell_type": "code",
   "execution_count": 6,
   "metadata": {},
   "outputs": [
    {
     "ename": "IndentationError",
     "evalue": "unexpected indent (554300967.py, line 2)",
     "output_type": "error",
     "traceback": [
      "\u001b[1;36m  Cell \u001b[1;32mIn[6], line 2\u001b[1;36m\u001b[0m\n\u001b[1;33m    \"negative\",\u001b[0m\n\u001b[1;37m    ^\u001b[0m\n\u001b[1;31mIndentationError\u001b[0m\u001b[1;31m:\u001b[0m unexpected indent\n"
     ]
    }
   ],
   "source": [
    "\"actor_mention_score\",\n",
    "\"negative\",\n",
    "                             \"positive\",\n",
    "                             \"neutral\",\n",
    "                             \"female_ratio\",\n",
    "                             \"gender_density\","
   ]
  },
  {
   "cell_type": "code",
   "execution_count": 7,
   "metadata": {},
   "outputs": [
    {
     "name": "stdout",
     "output_type": "stream",
     "text": [
      "Test Accuracy: 0.6162489196197062\n"
     ]
    }
   ],
   "source": [
    "#\"actor_mention_score\"\n",
    "rf = RandomForestClassifier(n_estimators = 100)\n",
    "rf.fit(np.expand_dims(x_train[:,0], axis = -1), y_train)\n",
    "y_pred = rf.predict(np.expand_dims(x_test[:,0], axis = -1))\n",
    "accuracy = accuracy_score(y_test, y_pred)\n",
    "print(\"Test Accuracy:\", accuracy)"
   ]
  },
  {
   "cell_type": "code",
   "execution_count": 8,
   "metadata": {},
   "outputs": [
    {
     "name": "stdout",
     "output_type": "stream",
     "text": [
      "Test Accuracy: 0.5203111495246326\n"
     ]
    }
   ],
   "source": [
    "#negative\n",
    "rf = RandomForestClassifier(n_estimators = 100)\n",
    "rf.fit(np.expand_dims(x_train[:,1], axis = -1), y_train)\n",
    "y_pred = rf.predict(np.expand_dims(x_test[:,1], axis = -1))\n",
    "accuracy = accuracy_score(y_test, y_pred)\n",
    "print(\"Test Accuracy:\", accuracy)"
   ]
  },
  {
   "cell_type": "code",
   "execution_count": 9,
   "metadata": {},
   "outputs": [
    {
     "name": "stdout",
     "output_type": "stream",
     "text": [
      "Test Accuracy: 0.4995678478824546\n"
     ]
    }
   ],
   "source": [
    "#positive\n",
    "rf = RandomForestClassifier(n_estimators = 100)\n",
    "rf.fit(np.expand_dims(x_train[:,2], axis = -1), y_train)\n",
    "y_pred = rf.predict(np.expand_dims(x_test[:,2], axis = -1))\n",
    "accuracy = accuracy_score(y_test, y_pred)\n",
    "print(\"Test Accuracy:\", accuracy)"
   ]
  },
  {
   "cell_type": "code",
   "execution_count": 10,
   "metadata": {},
   "outputs": [
    {
     "name": "stdout",
     "output_type": "stream",
     "text": [
      "Test Accuracy: 0.5038893690579084\n"
     ]
    }
   ],
   "source": [
    "#neutral\n",
    "rf = RandomForestClassifier(n_estimators = 100)\n",
    "rf.fit(np.expand_dims(x_train[:,3], axis = -1), y_train)\n",
    "y_pred = rf.predict(np.expand_dims(x_test[:,3], axis = -1))\n",
    "accuracy = accuracy_score(y_test, y_pred)\n",
    "print(\"Test Accuracy:\", accuracy)"
   ]
  },
  {
   "cell_type": "code",
   "execution_count": 11,
   "metadata": {},
   "outputs": [
    {
     "name": "stdout",
     "output_type": "stream",
     "text": [
      "Test Accuracy: 0.6715643906655142\n"
     ]
    }
   ],
   "source": [
    "#female cast ratio\n",
    "rf = RandomForestClassifier(n_estimators = 100)\n",
    "rf.fit(np.expand_dims(x_train[:,4], axis = -1), y_train)\n",
    "y_pred = rf.predict(np.expand_dims(x_test[:,4], axis = -1))\n",
    "accuracy = accuracy_score(y_test, y_pred)\n",
    "print(\"Test Accuracy:\", accuracy)"
   ]
  },
  {
   "cell_type": "code",
   "execution_count": 12,
   "metadata": {},
   "outputs": [
    {
     "name": "stdout",
     "output_type": "stream",
     "text": [
      "Test Accuracy: 0.6672428694900605\n"
     ]
    }
   ],
   "source": [
    "#gender mention density\n",
    "rf = RandomForestClassifier(n_estimators = 100)\n",
    "rf.fit(np.expand_dims(x_train[:,5], axis = -1), y_train)\n",
    "y_pred = rf.predict(np.expand_dims(x_test[:,5], axis = -1))\n",
    "accuracy = accuracy_score(y_test, y_pred)\n",
    "print(\"Test Accuracy:\", accuracy)"
   ]
  },
  {
   "cell_type": "code",
   "execution_count": 22,
   "metadata": {
    "tags": []
   },
   "outputs": [
    {
     "data": {
      "text/plain": [
       "(0.1818081342993504, 0.2667388113211385)"
      ]
     },
     "execution_count": 22,
     "metadata": {},
     "output_type": "execute_result"
    }
   ],
   "source": [
    "from sklearn.model_selection import train_test_split\n",
    "from sklearn.preprocessing import StandardScaler\n",
    "from sklearn.linear_model import LinearRegression\n",
    "from sklearn.metrics import mean_squared_error, r2_score\n",
    "import numpy as np\n",
    "\n",
    "\n",
    "# Splitting the data into training and testing sets\n",
    "X_train, X_test, y_train, y_test = train_test_split(rf_features, rf_labels, test_size=0.2, random_state=42)\n",
    "\n",
    "# Standardizing the features\n",
    "scaler = StandardScaler()\n",
    "X_train_scaled = scaler.fit_transform(X_train)\n",
    "X_test_scaled = scaler.transform(X_test)\n",
    "\n",
    "# Training a linear regression model\n",
    "model = LinearRegression()\n",
    "model.fit(X_train_scaled, y_train)\n",
    "\n",
    "# Predicting on test data\n",
    "y_pred = model.predict(X_test_scaled)\n",
    "\n",
    "# Evaluating the model\n",
    "mse = mean_squared_error(y_test, y_pred)\n",
    "r2 = r2_score(y_test, y_pred)\n",
    "\n",
    "mse, r2\n"
   ]
  },
  {
   "cell_type": "code",
   "execution_count": 23,
   "metadata": {
    "tags": []
   },
   "outputs": [
    {
     "data": {
      "text/html": [
       "<div>\n",
       "<style scoped>\n",
       "    .dataframe tbody tr th:only-of-type {\n",
       "        vertical-align: middle;\n",
       "    }\n",
       "\n",
       "    .dataframe tbody tr th {\n",
       "        vertical-align: top;\n",
       "    }\n",
       "\n",
       "    .dataframe thead th {\n",
       "        text-align: right;\n",
       "    }\n",
       "</style>\n",
       "<table border=\"1\" class=\"dataframe\">\n",
       "  <thead>\n",
       "    <tr style=\"text-align: right;\">\n",
       "      <th></th>\n",
       "      <th>5. Movie box office revenue</th>\n",
       "      <th>6. Movie runtime</th>\n",
       "      <th>actor_mention_score</th>\n",
       "      <th>negative</th>\n",
       "      <th>neutral</th>\n",
       "      <th>positive</th>\n",
       "      <th>female_ratio</th>\n",
       "      <th>gender_density</th>\n",
       "    </tr>\n",
       "  </thead>\n",
       "  <tbody>\n",
       "    <tr>\n",
       "      <th>0</th>\n",
       "      <td>10161099.0</td>\n",
       "      <td>137.0</td>\n",
       "      <td>0.2500</td>\n",
       "      <td>0.048826</td>\n",
       "      <td>0.830560</td>\n",
       "      <td>0.120614</td>\n",
       "      <td>0.150000</td>\n",
       "      <td>0.000000</td>\n",
       "    </tr>\n",
       "    <tr>\n",
       "      <th>1</th>\n",
       "      <td>102272727.0</td>\n",
       "      <td>139.0</td>\n",
       "      <td>0.5345</td>\n",
       "      <td>0.129004</td>\n",
       "      <td>0.691920</td>\n",
       "      <td>0.179076</td>\n",
       "      <td>0.461538</td>\n",
       "      <td>0.333333</td>\n",
       "    </tr>\n",
       "    <tr>\n",
       "      <th>2</th>\n",
       "      <td>3960327.0</td>\n",
       "      <td>98.0</td>\n",
       "      <td>0.2830</td>\n",
       "      <td>0.252773</td>\n",
       "      <td>0.634228</td>\n",
       "      <td>0.112999</td>\n",
       "      <td>0.428571</td>\n",
       "      <td>0.240000</td>\n",
       "    </tr>\n",
       "    <tr>\n",
       "      <th>5</th>\n",
       "      <td>4000000.0</td>\n",
       "      <td>176.0</td>\n",
       "      <td>1.0000</td>\n",
       "      <td>0.331542</td>\n",
       "      <td>0.582415</td>\n",
       "      <td>0.086043</td>\n",
       "      <td>0.250000</td>\n",
       "      <td>0.868421</td>\n",
       "    </tr>\n",
       "    <tr>\n",
       "      <th>7</th>\n",
       "      <td>4650000.0</td>\n",
       "      <td>96.0</td>\n",
       "      <td>0.2500</td>\n",
       "      <td>0.640489</td>\n",
       "      <td>0.336088</td>\n",
       "      <td>0.023423</td>\n",
       "      <td>0.285714</td>\n",
       "      <td>0.600000</td>\n",
       "    </tr>\n",
       "    <tr>\n",
       "      <th>...</th>\n",
       "      <td>...</td>\n",
       "      <td>...</td>\n",
       "      <td>...</td>\n",
       "      <td>...</td>\n",
       "      <td>...</td>\n",
       "      <td>...</td>\n",
       "      <td>...</td>\n",
       "      <td>...</td>\n",
       "    </tr>\n",
       "    <tr>\n",
       "      <th>5188</th>\n",
       "      <td>494471524.0</td>\n",
       "      <td>113.0</td>\n",
       "      <td>0.2222</td>\n",
       "      <td>0.333736</td>\n",
       "      <td>0.607674</td>\n",
       "      <td>0.058590</td>\n",
       "      <td>0.294118</td>\n",
       "      <td>0.636364</td>\n",
       "    </tr>\n",
       "    <tr>\n",
       "      <th>5189</th>\n",
       "      <td>147332697.0</td>\n",
       "      <td>93.0</td>\n",
       "      <td>0.7500</td>\n",
       "      <td>0.384289</td>\n",
       "      <td>0.565830</td>\n",
       "      <td>0.049881</td>\n",
       "      <td>0.235294</td>\n",
       "      <td>0.206897</td>\n",
       "    </tr>\n",
       "    <tr>\n",
       "      <th>5190</th>\n",
       "      <td>2158775.0</td>\n",
       "      <td>118.0</td>\n",
       "      <td>0.1667</td>\n",
       "      <td>0.131713</td>\n",
       "      <td>0.691487</td>\n",
       "      <td>0.176800</td>\n",
       "      <td>0.454545</td>\n",
       "      <td>0.055556</td>\n",
       "    </tr>\n",
       "    <tr>\n",
       "      <th>5191</th>\n",
       "      <td>288752301.0</td>\n",
       "      <td>117.0</td>\n",
       "      <td>0.5200</td>\n",
       "      <td>0.317630</td>\n",
       "      <td>0.585357</td>\n",
       "      <td>0.097013</td>\n",
       "      <td>0.285714</td>\n",
       "      <td>0.206897</td>\n",
       "    </tr>\n",
       "    <tr>\n",
       "      <th>5193</th>\n",
       "      <td>22886222.0</td>\n",
       "      <td>107.0</td>\n",
       "      <td>0.0000</td>\n",
       "      <td>0.511130</td>\n",
       "      <td>0.439813</td>\n",
       "      <td>0.049057</td>\n",
       "      <td>0.375000</td>\n",
       "      <td>0.651163</td>\n",
       "    </tr>\n",
       "  </tbody>\n",
       "</table>\n",
       "<p>2637 rows × 8 columns</p>\n",
       "</div>"
      ],
      "text/plain": [
       "      5. Movie box office revenue  6. Movie runtime  actor_mention_score  \\\n",
       "0                      10161099.0             137.0               0.2500   \n",
       "1                     102272727.0             139.0               0.5345   \n",
       "2                       3960327.0              98.0               0.2830   \n",
       "5                       4000000.0             176.0               1.0000   \n",
       "7                       4650000.0              96.0               0.2500   \n",
       "...                           ...               ...                  ...   \n",
       "5188                  494471524.0             113.0               0.2222   \n",
       "5189                  147332697.0              93.0               0.7500   \n",
       "5190                    2158775.0             118.0               0.1667   \n",
       "5191                  288752301.0             117.0               0.5200   \n",
       "5193                   22886222.0             107.0               0.0000   \n",
       "\n",
       "      negative   neutral  positive  female_ratio  gender_density  \n",
       "0     0.048826  0.830560  0.120614      0.150000        0.000000  \n",
       "1     0.129004  0.691920  0.179076      0.461538        0.333333  \n",
       "2     0.252773  0.634228  0.112999      0.428571        0.240000  \n",
       "5     0.331542  0.582415  0.086043      0.250000        0.868421  \n",
       "7     0.640489  0.336088  0.023423      0.285714        0.600000  \n",
       "...        ...       ...       ...           ...             ...  \n",
       "5188  0.333736  0.607674  0.058590      0.294118        0.636364  \n",
       "5189  0.384289  0.565830  0.049881      0.235294        0.206897  \n",
       "5190  0.131713  0.691487  0.176800      0.454545        0.055556  \n",
       "5191  0.317630  0.585357  0.097013      0.285714        0.206897  \n",
       "5193  0.511130  0.439813  0.049057      0.375000        0.651163  \n",
       "\n",
       "[2637 rows x 8 columns]"
      ]
     },
     "execution_count": 23,
     "metadata": {},
     "output_type": "execute_result"
    }
   ],
   "source": [
    "bechdel_movies"
   ]
  }
 ],
 "metadata": {
  "kernelspec": {
   "display_name": "Python 3 (ipykernel)",
   "language": "python",
   "name": "python3"
  },
  "language_info": {
   "codemirror_mode": {
    "name": "ipython",
    "version": 3
   },
   "file_extension": ".py",
   "mimetype": "text/x-python",
   "name": "python",
   "nbconvert_exporter": "python",
   "pygments_lexer": "ipython3",
   "version": "3.9.18"
  }
 },
 "nbformat": 4,
 "nbformat_minor": 4
}
