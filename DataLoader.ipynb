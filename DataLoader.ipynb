{
 "cells": [
  {
   "cell_type": "code",
   "execution_count": 7,
   "id": "68ba65ea-cf66-4c06-8e76-a77dfab92774",
   "metadata": {
    "tags": []
   },
   "outputs": [],
   "source": [
    "import pandas as pd\n",
    "import numpy as np\n",
    "\n",
    "movie_metadata = pd.read_csv('MovieSummaries/movie.metadata.tsv',sep='\\t')\n",
    "\n",
    "movie_metadata.columns = ['1. Wikipedia movie ID',\n",
    "                          '2. Freebase movie ID',\n",
    "                          '3. Movie name',\n",
    "                          '4. Movie release date',\n",
    "                          '5. Movie box office revenue',\n",
    "                          '6. Movie runtime',\n",
    "                          '7. Movie languages (Freebase ID:name tuples)',\n",
    "                          '8. Movie countries (Freebase ID:name tuples)',\n",
    "                          '9. Movie genres (Freebase ID:name tuples)']\n",
    "\n",
    "character_metadata = pd.read_csv('MovieSummaries/character.metadata.tsv',sep='\\t')\n",
    "\n",
    "character_metadata.columns = ['1. Wikipedia movie ID',\n",
    "                              '2. Freebase movie ID',\n",
    "                              '3. Movie release date',\n",
    "                              '4. Character name',\n",
    "                              '5. Actor date of birth',\n",
    "                              '6. Actor gender',\n",
    "                              '7. Actor height (in meters)',\n",
    "                              '8. Actor ethnicity (Freebase ID)',\n",
    "                              '9. Actor name',\n",
    "                              '10. Actor age at movie release',\n",
    "                              '11. Freebase character/actor map ID',\n",
    "                              '12. Freebase character ID',\n",
    "                              '13. Freebase actor ID']\n",
    "\n",
    "movie_metadata_bechdel = pd.read_csv(\"CMU_bechdel_added.csv\")\n",
    "movie_metadata_bechdel = movie_metadata_bechdel.drop(\"Unnamed: 0\", axis=1)\n",
    "\n",
    "\n",
    "character_metadata_bechdel = character_metadata.copy(deep = True)\n",
    "character_metadata_bechdel = character_metadata_bechdel[character_metadata_bechdel['2. Freebase movie ID'].isin(movie_metadata_bechdel[\"2. Freebase movie ID\"].to_numpy())]\n"
   ]
  }
 ],
 "metadata": {
  "kernelspec": {
   "display_name": "Python 3 (ipykernel)",
   "language": "python",
   "name": "python3"
  },
  "language_info": {
   "codemirror_mode": {
    "name": "ipython",
    "version": 3
   },
   "file_extension": ".py",
   "mimetype": "text/x-python",
   "name": "python",
   "nbconvert_exporter": "python",
   "pygments_lexer": "ipython3",
   "version": "3.9.18"
  }
 },
 "nbformat": 4,
 "nbformat_minor": 5
}
