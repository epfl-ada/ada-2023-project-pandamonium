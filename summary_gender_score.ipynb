{
 "cells": [
  {
   "cell_type": "code",
   "execution_count": 314,
   "metadata": {},
   "outputs": [
    {
     "name": "stdout",
     "output_type": "stream",
     "text": [
      "(6521, 11)\n",
      "Size before: (450668, 13)\n",
      "Size after: (72458, 13)\n"
     ]
    }
   ],
   "source": [
    "import pandas as pd\n",
    "import numpy as np\n",
    "from nltk.tokenize import RegexpTokenizer\n",
    "pd.options.mode.chained_assignment = None\n",
    "\n",
    "movie_metadata = pd.read_csv('MovieSummaries/movie.metadata.tsv',sep='\\t')\n",
    "\n",
    "movie_metadata.columns = ['1. Wikipedia movie ID',\n",
    "                          '2. Freebase movie ID',\n",
    "                          '3. Movie name',\n",
    "                          '4. Movie release date',\n",
    "                          '5. Movie box office revenue',\n",
    "                          '6. Movie runtime',\n",
    "                          '7. Movie languages (Freebase ID:name tuples)',\n",
    "                          '8. Movie countries (Freebase ID:name tuples)',\n",
    "                          '9. Movie genres (Freebase ID:name tuples)']\n",
    "\n",
    "character_metadata = pd.read_csv('MovieSummaries/character.metadata.tsv',sep='\\t')\n",
    "\n",
    "character_metadata.columns = ['1. Wikipedia movie ID',\n",
    "                              '2. Freebase movie ID',\n",
    "                              '3. Movie release date',\n",
    "                              '4. Character name',\n",
    "                              '5. Actor date of birth',\n",
    "                              '6. Actor gender',\n",
    "                              '7. Actor height (in meters)',\n",
    "                              '8. Actor ethnicity (Freebase ID)',\n",
    "                              '9. Actor name',\n",
    "                              '10. Actor age at movie release',\n",
    "                              '11. Freebase character/actor map ID',\n",
    "                              '12. Freebase character ID',\n",
    "                              '13. Freebase actor ID']\n",
    "\n",
    "movie_metadata_bechdel = pd.read_csv(\"CMU_bechdel_added.csv\")\n",
    "print(movie_metadata_bechdel.shape)\n",
    "movie_metadata_bechdel = movie_metadata_bechdel.drop(\"Unnamed: 0\", axis=1)\n",
    "movie_metadata_bechdel[\"actor_mention_score\"] = pd.Series(np.zeros((movie_metadata_bechdel.shape[0],))) #add the new column\n",
    "\n",
    "character_metadata_bechdel = character_metadata.copy(deep = True)\n",
    "print(\"Size before:\", character_metadata_bechdel.shape)\n",
    "character_metadata_bechdel = character_metadata_bechdel[character_metadata_bechdel['2. Freebase movie ID'].isin(movie_metadata_bechdel[\"2. Freebase movie ID\"].to_numpy())]\n",
    "print(\"Size after:\", character_metadata_bechdel.shape)"
   ]
  },
  {
   "cell_type": "code",
   "execution_count": 315,
   "metadata": {},
   "outputs": [
    {
     "name": "stdout",
     "output_type": "stream",
     "text": [
      "(6521, 11)\n",
      "(6202, 11)\n"
     ]
    }
   ],
   "source": [
    "print(movie_metadata_bechdel.shape)\n",
    "movie_metadata_bechdel = movie_metadata_bechdel[movie_metadata_bechdel['2. Freebase movie ID'].isin(character_metadata_bechdel[\"2. Freebase movie ID\"].to_numpy())]\n",
    "print(movie_metadata_bechdel.shape)"
   ]
  },
  {
   "cell_type": "code",
   "execution_count": 316,
   "metadata": {},
   "outputs": [
    {
     "name": "stdout",
     "output_type": "stream",
     "text": [
      "(42303, 2)\n",
      "(5194, 2)\n",
      "Movie Metadata Before sync: (6202, 11)\n",
      "Movie Metadata Before sync: (5194, 11)\n"
     ]
    }
   ],
   "source": [
    "plot_summaries=pd.read_csv('MovieSummaries/plot_summaries.txt', sep='\\t', header=None, names=['id', 'plot_summary'])\n",
    "plot_summaries_bechdel = plot_summaries[plot_summaries['id'].isin(character_metadata_bechdel['1. Wikipedia movie ID'].to_numpy())]\n",
    "\n",
    "plot_summaries.head()\n",
    "print(plot_summaries.shape)\n",
    "print(plot_summaries_bechdel.shape)\n",
    "\n",
    "print(\"Movie Metadata Before sync:\",movie_metadata_bechdel.shape)\n",
    "movie_metadata_bechdel = movie_metadata_bechdel[movie_metadata_bechdel['1. Wikipedia movie ID'].isin(plot_summaries_bechdel[\"id\"].to_numpy())]\n",
    "print(\"Movie Metadata Before sync:\",movie_metadata_bechdel.shape)"
   ]
  },
  {
   "cell_type": "code",
   "execution_count": 317,
   "metadata": {},
   "outputs": [],
   "source": [
    "movie_idx = 255\n",
    "\n",
    "def calculate_actor_mention_score(movie_idx):\n",
    "    movie_summary = plot_summaries_bechdel.iloc[movie_idx][\"plot_summary\"]\n",
    "    \n",
    "    #Tokenize the movie summary\n",
    "    tokens = tokenizer.tokenize(movie_summary)\n",
    "    tokens = [x.lower() for x in tokens]\n",
    "    tokens_freq = pd.Series(tokens).value_counts(sort=True)\n",
    "    \n",
    "    #align movie dataset & character dataset\n",
    "    movie_id = plot_summaries_bechdel.iloc[movie_idx][\"id\"]\n",
    "    character_list = character_metadata_bechdel[character_metadata_bechdel['1. Wikipedia movie ID'] == movie_id][['4. Character name','6. Actor gender']]\n",
    "    \n",
    "    character_list_processed = character_list.copy()\n",
    "    character_list_processed = character_list_processed.dropna()\n",
    "\n",
    "    #Lowercase character names\n",
    "    character_list_processed[\"4. Character name\"] = character_list_processed[\"4. Character name\"].str.lower()\n",
    "\n",
    "    #Split full name and only get the first name\n",
    "    character_list_processed[\"4. Character name\"] = character_list_processed[\"4. Character name\"].str.split(' ').str[0]\n",
    "\n",
    "    character_list_processed = character_list_processed.drop(character_list_processed[character_list_processed[\"4. Character name\"] == \"the\"].index)\n",
    "\n",
    "    character_gender_stacked = character_list_processed.drop_duplicates(subset='4. Character name', keep=False)\n",
    "    character_gender_stacked_idx = character_gender_stacked.set_index(\"4. Character name\")\n",
    "\n",
    "    #Take the intersection between the token's frequency and movie cast\n",
    "    tokens_intersection = tokens_freq[character_gender_stacked_idx.index.intersection(tokens_freq.index)]\n",
    "    character_gender_stacked = character_gender_stacked.drop_duplicates()\n",
    "    character_mention_freq = character_gender_stacked[character_gender_stacked[\"4. Character name\"].isin(tokens_intersection.index)]#.drop_duplicates()\n",
    "\n",
    "    #Add the number of character mentions in summary to the character meta-dataset\n",
    "    character_mention_freq[\"no_mention\"] = tokens_intersection.values#pd.DataFrame({'4. Character name':character_mention_freq[0], 'no_mention':character_mention_freq.values})\n",
    "    character_mention_freq.columns = [\"character_name\", \"gender\", \"no_mention\"]\n",
    "    character_list_final = character_mention_freq\n",
    "    #print(character_list_final)\n",
    "    \n",
    "    #Group by gender and calculate total number of mentions by gender\n",
    "    character_list_freq_added = character_list_final.groupby(['gender']).sum()\n",
    "    if len(character_list_freq_added['no_mention'].index) != 0:\n",
    "        if character_list_freq_added['no_mention'].shape[0] == 2:\n",
    "            female_mention, male_mention = character_list_freq_added['no_mention'][0], character_list_freq_added['no_mention'][1] #groupby is alphabethic, index 0 = F\n",
    "            mention_ratio = female_mention/(female_mention + male_mention)\n",
    "        elif character_list_freq_added['no_mention'].index[0] == \"M\":\n",
    "            mention_ratio = 0.\n",
    "        elif character_list_freq_added['no_mention'].index[0] == \"F\":\n",
    "            mention_ratio = 1.\n",
    "        else:\n",
    "            mention_ratio = np.nan\n",
    "    else:\n",
    "        mention_ratio = np.nan\n",
    "\n",
    "    actor_mention_score = round(mention_ratio, 4)\n",
    "    \n",
    "    return actor_mention_score, movie_id\n"
   ]
  },
  {
   "cell_type": "code",
   "execution_count": 326,
   "metadata": {},
   "outputs": [
    {
     "name": "stdout",
     "output_type": "stream",
     "text": [
      "1.0 24225279\n",
      "1050    0.0\n",
      "Name: actor_mention_score, dtype: float64\n"
     ]
    }
   ],
   "source": [
    "import time\n",
    "beginning = time.time()\n",
    "\n",
    "for a in range(1):#movie_metadata_bechdel.shape[0]-1):\n",
    "    actor_mention_score, movie_id = calculate_actor_mention_score(a+1)\n",
    "    print(actor_mention_score, movie_id)\n",
    "    movie_metadata_bechdel[movie_metadata_bechdel['1. Wikipedia movie ID'] == movie_id][\"actor_mention_score\"] = actor_mention_score\n",
    "    print(movie_metadata_bechdel[movie_metadata_bechdel['1. Wikipedia movie ID'] == movie_id][\"actor_mention_score\"])\n",
    "#print(movie_metadata_bechdel)\n",
    "#print(time.time() - beginning)"
   ]
  },
  {
   "cell_type": "code",
   "execution_count": null,
   "metadata": {},
   "outputs": [],
   "source": []
  }
 ],
 "metadata": {
  "kernelspec": {
   "display_name": "Python 3",
   "language": "python",
   "name": "python3"
  },
  "language_info": {
   "codemirror_mode": {
    "name": "ipython",
    "version": 3
   },
   "file_extension": ".py",
   "mimetype": "text/x-python",
   "name": "python",
   "nbconvert_exporter": "python",
   "pygments_lexer": "ipython3",
   "version": "3.8.5"
  }
 },
 "nbformat": 4,
 "nbformat_minor": 4
}
